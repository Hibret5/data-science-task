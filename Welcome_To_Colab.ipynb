{
  "cells": [
    {
      "cell_type": "markdown",
      "metadata": {
        "id": "view-in-github",
        "colab_type": "text"
      },
      "source": [
        "<a href=\"https://colab.research.google.com/github/Hibret5/data-science-task/blob/main/Welcome_To_Colab.ipynb\" target=\"_parent\"><img src=\"https://colab.research.google.com/assets/colab-badge.svg\" alt=\"Open In Colab\"/></a>"
      ]
    },
    {
      "cell_type": "code",
      "source": [],
      "metadata": {
        "id": "FabPqVQbKx0f"
      },
      "execution_count": null,
      "outputs": []
    },
    {
      "cell_type": "markdown",
      "source": [],
      "metadata": {
        "id": "YYStTZFxLWoD"
      }
    },
    {
      "cell_type": "markdown",
      "source": [
        "#1\n",
        " A list is an ordered collection of items that can hold elements of different types (integers, strings, other lists, etc.).\n",
        "\n",
        "🔹 Features:\n",
        "Ordered\n",
        "Mutable (can be changed)\n",
        "Can contain mixed data types\n",
        "\n",
        "example:\n",
        "my_list = [1, 2, 3, 'apple', True]\n",
        "\n",
        "\n",
        "A dictionary stores data in key-value pairs.\n",
        "\n",
        "🔹 Features:\n",
        "Unordered (in older Python versions), but ordered as of Python 3.7+\n",
        "Mutable\n",
        "Keys must be unique and immutable\n",
        "\n",
        "example:\n",
        "my_dict = {'name': 'Alice', 'age': 25, 'city': 'New York'}\n",
        "\n",
        "\n",
        "A NumPy array is a fixed-type, grid-like structure used for numerical operations.\n",
        "\n",
        "🔹 Features:\n",
        "Homogeneous (all elements must be the same type)\n",
        "Very efficient for numerical computations\n",
        "Supports vectorized operations\n",
        "\n",
        "example:\n",
        "import numpy as np\n",
        "my_array = np.array([1, 2, 3, 4, 5])\n",
        "**bold text**"
      ],
      "metadata": {
        "id": "pIdfXtXr5SvT"
      }
    },
    {
      "cell_type": "code",
      "execution_count": 1,
      "metadata": {
        "colab": {
          "base_uri": "https://localhost:8080/"
        },
        "collapsed": true,
        "id": "WpMWPaqz2O4B",
        "outputId": "1ab86a50-8666-4c26-db80-1b30f3fa0b3c"
      },
      "outputs": [
        {
          "output_type": "stream",
          "name": "stdout",
          "text": [
            "[100, 400, 900]\n"
          ]
        }
      ],
      "source": [
        "#2\n",
        "def square_even_numbers(numbers):\n",
        "    return [num ** 2 for num in numbers if num % 2 == 0]\n",
        "\n",
        "# Test it with your list\n",
        "my_list = [10, 15, 20, 25, 30]\n",
        "result = square_even_numbers(my_list)\n",
        "print(result)\n"
      ]
    },
    {
      "cell_type": "code",
      "source": [
        "#3\n",
        "x = [1, 2, 3]\n",
        "y = x\n",
        "y.append(4)\n",
        "print(x)\n",
        "\n",
        "# Because lists are mutable, and assigning y = x doesn't create a new list — both x and y refer to the same object.\n"
      ],
      "metadata": {
        "id": "1d1jw3kX90V6",
        "colab": {
          "base_uri": "https://localhost:8080/"
        },
        "outputId": "9c8b3584-0c19-4d9b-fcec-5c557b88bbe6"
      },
      "execution_count": 2,
      "outputs": [
        {
          "output_type": "stream",
          "name": "stdout",
          "text": [
            "[1, 2, 3, 4]\n"
          ]
        }
      ]
    },
    {
      "cell_type": "markdown",
      "source": [],
      "metadata": {
        "id": "3_Loj4n2LZmo"
      }
    },
    {
      "cell_type": "markdown",
      "source": [
        "#4\n",
        ".shape\n",
        "Returns a tuple indicating the number of rows and columns in the DataFrame.\n",
        "\n",
        ".describe()\n",
        "Gives you summary statistics of the DataFrame's numeric columns by default:\n",
        "\n",
        "count\n",
        "mean\n",
        "std (standard deviation)\n",
        "min, max\n",
        "25%, 50%, 75% (quartiles)\n",
        "\n",
        "example:\n",
        "import pandas as pd\n",
        "\n",
        "# Sample DataFrame\n",
        "data = {\n",
        "    'age': [25, 30, 35, 40, 45],\n",
        "    'salary': [50000, 60000, 65000, 70000, 80000]\n",
        "}\n",
        "\n",
        "df = pd.DataFrame(data)\n",
        "\n",
        "# Using .shape\n",
        "print(\"Shape of DataFrame:\", df.shape)\n",
        "\n",
        "# Using .describe()\n",
        "print(\"\\nSummary Statistics:\\n\", df.describe())\n"
      ],
      "metadata": {
        "id": "9Ukkost6_Fp4"
      }
    },
    {
      "cell_type": "code",
      "source": [],
      "metadata": {
        "id": "iVXZdad_Lks5"
      },
      "execution_count": null,
      "outputs": []
    },
    {
      "cell_type": "code",
      "source": [
        "#5\n",
        "# Step 1: Import pandas\n",
        "import pandas as pd\n",
        "\n",
        "# Step 2: Load the CSV\n",
        "df = pd.read_csv('airtravel.csv')\n",
        "\n",
        "# Step 3: Clean up the column names\n",
        "df.columns = df.columns.str.strip().str.replace('\"', '')\n",
        "\n",
        "# Step 4: Show first 5 rows\n",
        "print(\"First 5 Rows:\")\n",
        "print(df.head())\n",
        "\n",
        "# Step 5: Convert to long format for better plotting/analysis\n",
        "df_long = pd.melt(df, id_vars=['Month'], var_name='Year', value_name='Passengers')\n",
        "\n",
        "print(\"\\nReshaped Data:\")\n",
        "print(df_long.head())\n",
        "\n",
        "# (Optional) Step 6: Plot the data\n",
        "import seaborn as sns\n",
        "import matplotlib.pyplot as plt\n",
        "\n",
        "plt.figure(figsize=(10, 6))\n",
        "sns.lineplot(data=df_long, x='Month', y='Passengers', hue='Year', marker='o')\n",
        "plt.title('Monthly Air Travel (1958–1960)')\n",
        "plt.ylabel('Number of Passengers')\n",
        "plt.grid(True)\n",
        "plt.show()\n"
      ],
      "metadata": {
        "id": "LSUZqmr6D2c4"
      },
      "execution_count": null,
      "outputs": []
    },
    {
      "cell_type": "code",
      "source": [],
      "metadata": {
        "id": "gqr1oiCPLl4z"
      },
      "execution_count": null,
      "outputs": []
    },
    {
      "cell_type": "code",
      "source": [
        "#6\n",
        "import pandas as pd\n",
        "# Load and clean the CSV\n",
        "df = pd.read_csv('airtravel.csv')\n",
        "df.columns = df.columns.str.strip().str.replace('\"', '')  # Clean column names\n",
        "\n",
        "#The month with the highest total passengers\n",
        "# Add a column for total passengers across all years\n",
        "df['Total'] = df[['1958', '1959', '1960']].sum(axis=1)\n",
        "\n",
        "# Find the row with the maximum total\n",
        "max_month = df.loc[df['Total'].idxmax(), 'Month']\n",
        "print(\"📈 Month with highest total passengers:\", max_month)\n",
        "\n",
        "#The month with the lowest in 1958\n",
        "# Find the row with the minimum value in 1958\n",
        "min_month_1958 = df.loc[df['1958'].idxmin(), 'Month']\n",
        "print(\"📉 Month with lowest passengers in 1958:\", min_month_1958)\n"
      ],
      "metadata": {
        "id": "7ax3x529EQLF"
      },
      "execution_count": null,
      "outputs": []
    },
    {
      "cell_type": "markdown",
      "source": [],
      "metadata": {
        "id": "YzqHp4x1LqC-"
      }
    },
    {
      "cell_type": "markdown",
      "source": [
        "#7\n",
        "What .groupby() Does:\n",
        "It splits the data into groups → applies a function → combines the result.\n",
        "\n",
        "Split ➡️ Apply ➡️ Combine\n",
        "example:\n",
        "Lets say we have a DataFrame of sales made by different employees in different departments:\n",
        "\n",
        "import pandas as pd\n",
        "\n",
        "# Dummy sales data\n",
        "data = {\n",
        "    'Department': ['HR', 'HR', 'IT', 'IT', 'Sales', 'Sales', 'Sales'],\n",
        "    'Employee': ['Alice', 'Bob', 'Charlie', 'David', 'Eva', 'Frank', 'Grace'],\n",
        "    'Sales': [200, 150, 300, 250, 400, 500, 450]\n",
        "}\n",
        "\n",
        "df = pd.DataFrame(data)\n",
        "print(\"Original DataFrame:\")\n",
        "print(df)\n",
        "\n",
        "# Group by department and sum the sales\n",
        "grouped = df.groupby('Department')['Sales'].sum()\n",
        "\n",
        "print(\"\\nTotal Sales by Department:\")\n",
        "print(grouped)\n"
      ],
      "metadata": {
        "id": "r1oUn4HSFKu0"
      }
    },
    {
      "cell_type": "code",
      "source": [],
      "metadata": {
        "id": "lQAXKP2DMMCZ"
      },
      "execution_count": null,
      "outputs": []
    },
    {
      "cell_type": "code",
      "source": [
        "#8\n",
        "import seaborn as sns\n",
        "import pandas as pd\n",
        "\n",
        "# Load Titanic dataset from seaborn\n",
        "titanic = sns.load_dataset('titanic')\n",
        "\n",
        "# Count missing values per column\n",
        "missing_values = titanic.isnull().sum()\n",
        "\n",
        "print(\"Missing values in each column:\")\n",
        "print(missing_values)\n"
      ],
      "metadata": {
        "id": "7AEVWBxIF_Tq"
      },
      "execution_count": null,
      "outputs": []
    },
    {
      "cell_type": "code",
      "source": [],
      "metadata": {
        "id": "hscgXQqhMM-o"
      },
      "execution_count": null,
      "outputs": []
    },
    {
      "cell_type": "code",
      "source": [
        "#9\n",
        "import seaborn as sns\n",
        "import pandas as pd\n",
        "import matplotlib.pyplot as plt\n",
        "\n",
        "# Load dataset\n",
        "df = sns.load_dataset('titanic')\n",
        "\n",
        "# Plot histogram for Age\n",
        "df['age'].hist(bins=30, edgecolor='black')\n",
        "plt.title('Age Distribution of Titanic Passengers')\n",
        "plt.xlabel('Age')\n",
        "plt.ylabel('Count')\n",
        "plt.grid(False)\n",
        "plt.show()\n",
        "\n",
        "# What Shape Do You See?\n",
        "#You’ll likely see a right-skewed (positively skewed) distribution:\n",
        "#-A peak around 20–30 years old\n",
        "#-A long tail extending toward older ages (60–80+)\n",
        "#What Might Be the Reason for the Skew?\n",
        "#1 Fewer Older Passengers\n",
        "#The ship likely had more young adults\n",
        "#and families, fewer elderly.\n",
        "\n",
        "#2 Children Are Present but Fewer in Number\n",
        "#There's a small bump on the left (for\n",
        "#children), but it's not huge.\n",
        "\n",
        "#3 Socioeconomic Factors\n",
        "#Younger adults might have been more\n",
        "#likely to travel for work or migration.\n",
        "\n",
        "#4 Survivorship Bias / Missing Data\n",
        "#Some ages are missing (NaN), and this\n",
        "#could affect the distribution if not\n",
        "#handled.\n"
      ],
      "metadata": {
        "id": "vE8KZnsZGTIO"
      },
      "execution_count": null,
      "outputs": []
    },
    {
      "cell_type": "code",
      "source": [],
      "metadata": {
        "id": "ITFN1eIlMni3"
      },
      "execution_count": null,
      "outputs": []
    },
    {
      "cell_type": "code",
      "source": [
        "#10\n",
        "import pandas as pd\n",
        "\n",
        "# Create a DataFrame with two columns\n",
        "data = {\n",
        "    'low_std': [50, 51, 49, 50, 50, 51, 49],\n",
        "    'high_std': [10, 90, 5, 95, 50, 85, 15]\n",
        "}\n",
        "\n",
        "df = pd.DataFrame(data)\n",
        "\n",
        "# Calculate standard deviation\n",
        "std_values = df.std()\n",
        "\n",
        "print(\"Standard Deviations:\")\n",
        "print(std_values)\n",
        "\n",
        "# What Does a High Standard Deviation Mean?\n",
        "#-Standard Deviation (std) measures how spread out the values in a dataset are.\n",
        "#-A high std dev means the values vary a lot from the mean.\n",
        "#-A low std dev means the values are close to the mean (less variation)."
      ],
      "metadata": {
        "id": "9sdCcTXxHYjN"
      },
      "execution_count": null,
      "outputs": []
    },
    {
      "cell_type": "markdown",
      "source": [],
      "metadata": {
        "id": "c6_1lyH5Mv0o"
      }
    },
    {
      "cell_type": "markdown",
      "source": [
        "#11\n",
        "1. Healthcare / Medical Records\n",
        "Scenario: You're building a model to predict patient risk (e.g., heart disease or diabetes) using health records.\n",
        "\n",
        "Potential Missing Data:\n",
        "Missing blood pressure or cholesterol levels\n",
        "Missing diagnosis dates or medication history\n",
        "\n",
        "Why It Matters:\n",
        "Important risk factors could be underestimated.\n",
        "You might incorrectly classify a patient as “low risk” when they’re not.\n",
        "\n",
        "Models trained on incomplete data may bias results toward patients with more complete records (e.g., those who visit the doctor more often).\n",
        "\n",
        "2. Housing Price Prediction\n",
        "Scenario: You’re predicting house prices using features like size, location, age, number of rooms, and amenities.\n",
        "Potential Missing Data:\n",
        "Missing values for lot size, number of bathrooms, or year built\n",
        "\n",
        "Why It Matters:\n",
        "A missing value on a key feature (e.g., number of rooms) can lead to:\n",
        "Poor predictions\n",
        "Incorrect feature importance rankings\n",
        "Skewed data can hurt business decisions (e.g., undervaluing a property)  \n",
        "\n",
        "examples:\n",
        "1. Missing data can lead to biased models, wrong conclusions, or missed opportunities.\n",
        "\n",
        "2. Its crucial to handle missing values carefully — imputation, removal, or flagging may be needed."
      ],
      "metadata": {
        "id": "ET1GGf2DH6ut"
      }
    }
  ],
  "metadata": {
    "colab": {
      "name": "Welcome To Colab",
      "provenance": [],
      "include_colab_link": true
    },
    "kernelspec": {
      "display_name": "Python 3",
      "name": "python3"
    }
  },
  "nbformat": 4,
  "nbformat_minor": 0
}